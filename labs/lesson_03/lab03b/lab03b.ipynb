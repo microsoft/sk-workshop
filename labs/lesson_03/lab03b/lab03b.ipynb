{
 "cells": [
  {
   "cell_type": "markdown",
   "metadata": {},
   "source": [
    "#### Lab 03b: Semantic Kernel Basic Concepts (NL2SQL Scenario)  \n",
    "\n",
    "**Objective:** In this lab, we will develop a basic understanding of Semantic Kernel concepts by creating a Natural Language to SQL (NL2SQL) scenario. \n",
    "\n",
    "We will use Azure's OpenAI service to implement a pipeline that translates natural language queries into SQL commands to interact with a database."
   ]
  },
  {
   "cell_type": "markdown",
   "metadata": {},
   "source": [
    "#### Step 1: Set Up Azure OpenAI Service  \n",
    "- **Create an Azure OpenAI service** with a GPT-4 or GPT-3.5-Turbo deployment using the Azure Portal. GPT-4 is recommended for optimal performance.  \n",
    "- **Configure environment variables** for Semantic Kernel to connect to this service by creating an `.env` file. Use the provided `.env.template` as a starting point, rename it to `.env`, and replace the placeholder values with your actual service details.  "
   ]
  },
  {
   "cell_type": "markdown",
   "metadata": {},
   "source": [
    "#### Step 2: Create the Database  \n",
    "In this section, we will establish a database connection, define our database schema with tables, and populate the tables with data.  "
   ]
  },
  {
   "cell_type": "code",
   "execution_count": 1,
   "metadata": {},
   "outputs": [],
   "source": [
    "from sqlalchemy import create_engine, Column, Integer, String, ForeignKey\n",
    "from sqlalchemy.orm import sessionmaker, declarative_base\n",
    "import pandas as pd\n",
    "\n",
    "# Create the SQLite database\n",
    "engine = create_engine('sqlite:///data.db')\n",
    "\n",
    "# Create tables\n",
    "Base = declarative_base()\n",
    "\n",
    "class City(Base):\n",
    "    __tablename__ = 'cities'\n",
    "    city_id = Column(Integer, primary_key=True)\n",
    "    name = Column(String)\n",
    "\n",
    "class Product(Base):\n",
    "    __tablename__ = 'products'\n",
    "    product_id = Column(Integer, primary_key=True)\n",
    "    name = Column(String)\n",
    "\n",
    "class Sale(Base):\n",
    "    __tablename__ = 'sales'\n",
    "    sale_id = Column(Integer, primary_key=True)  # Add this line\n",
    "    city_id = Column(Integer, ForeignKey('cities.city_id'))\n",
    "    product_id = Column(Integer, ForeignKey('products.product_id'))\n",
    "    total = Column(Integer)\n",
    "\n",
    "Base.metadata.create_all(engine)\n",
    "\n",
    "# Create a session\n",
    "Session = sessionmaker(bind=engine)\n",
    "session = Session()\n",
    "\n",
    "# Clear tables\n",
    "session.query(City).delete()\n",
    "session.query(Product).delete()\n",
    "session.query(Sale).delete()\n",
    "session.commit()\n",
    "\n",
    "# Load data\n",
    "try:\n",
    "    df_city = pd.read_csv('data/cities.csv')\n",
    "    df_city.to_sql('cities', con=engine, if_exists='append', index=False)\n",
    "except Exception as e:\n",
    "    print(f\"Error loading cities data: {e}\")\n",
    "\n",
    "try:\n",
    "    df_product = pd.read_csv('data/products.csv')\n",
    "    df_product.to_sql('products', con=engine, if_exists='append', index=False)\n",
    "except Exception as e:\n",
    "    print(f\"Error loading products data: {e}\")\n",
    "\n",
    "try:\n",
    "    df_sale = pd.read_csv('data/sales.csv')\n",
    "    df_sale.to_sql('sales', con=engine, if_exists='append', index=False)\n",
    "except Exception as e:\n",
    "    print(f\"Error loading sales data: {e}\")\n"
   ]
  },
  {
   "cell_type": "markdown",
   "metadata": {},
   "source": [
    "#### Step 3: Understanding the NL2SQL Pipeline  \n",
    "\n",
    "The typical NL2SQL pipeline consists of the following steps:  \n",
    "\n",
    "1. 💻 Obtain the database schema  \n",
    "2. 🧠 Select relevant tables and columns based on the schema  \n",
    "3. 🧠 Generate the SQL query  \n",
    "4. 💻 Execute the SQL query against the database  \n",
    "5. 🧠 Generate a human-readable answer from the query result  \n",
    "   \n",
    "We will implement an **NL2SQL plugin** that encapsulates the functions for each step above.  "
   ]
  },
  {
   "cell_type": "markdown",
   "metadata": {},
   "source": [
    "#### Step 4: Create the NL2SQL Plugin Directory  \n",
    "\n",
    "To organize our NL2SQL functions, we create a dedicated directory within our project.  "
   ]
  },
  {
   "cell_type": "code",
   "execution_count": 1,
   "metadata": {
    "vscode": {
     "languageId": "shellscript"
    }
   },
   "outputs": [],
   "source": [
    "!mkdir -p plugins/NL2SQL"
   ]
  },
  {
   "cell_type": "markdown",
   "metadata": {},
   "source": [
    "#### Step 5: Implementing NL2SQL Functions  \n",
    "We will now create individual functions for each step in the NL2SQL pipeline.  \n",
    "   \n",
    "💻 Get Database Schema Function  \n",
    "\n",
    "This function retrieves the schema of the database, including table names, columns, primary keys, and foreign keys.  "
   ]
  },
  {
   "cell_type": "code",
   "execution_count": 3,
   "metadata": {
    "vscode": {
     "languageId": "shellscript"
    }
   },
   "outputs": [
    {
     "name": "stdout",
     "output_type": "stream",
     "text": [
      "Overwriting plugins/NL2SQL/native_function.py\n"
     ]
    }
   ],
   "source": [
    "%%writefile plugins/NL2SQL/native_function.py\n",
    "from semantic_kernel.skill_definition import sk_function\n",
    "from semantic_kernel import SKContext\n",
    "import json\n",
    "from sqlalchemy import inspect, create_engine\n",
    "\n",
    "class NL2SQL:\n",
    "    @sk_function(\n",
    "        description=\"Get the database schema\",\n",
    "        name=\"GetDatabaseSchema\",\n",
    "        input_description=\"The user question\",\n",
    "    )\n",
    "    def get_database_schema(self, context: SKContext) -> str:\n",
    "        engine = create_engine('sqlite:///data.db')\n",
    "        \n",
    "        # Create inspector\n",
    "        inspector = inspect(engine)\n",
    "\n",
    "        # Get table information\n",
    "        tables = inspector.get_table_names()\n",
    "\n",
    "        # Store table information\n",
    "        table_info = {}\n",
    "\n",
    "        for table in tables:\n",
    "            table_info[table] = {\n",
    "                \"columns\": [],\n",
    "                \"primary_key\": [],\n",
    "                \"foreign_keys\": []\n",
    "            }\n",
    "            \n",
    "            # Get columns\n",
    "            columns = inspector.get_columns(table)\n",
    "            for column in columns:\n",
    "                table_info[table][\"columns\"].append({\n",
    "                    \"name\": column['name'],\n",
    "                    \"type\": str(column['type'])\n",
    "                })\n",
    "            \n",
    "            # Get primary key\n",
    "            pk = inspector.get_pk_constraint(table)['constrained_columns']\n",
    "            table_info[table][\"primary_key\"] = pk\n",
    "            \n",
    "            # Get foreign keys\n",
    "            fks = inspector.get_foreign_keys(table)\n",
    "            if fks:\n",
    "                for fk in fks:\n",
    "                    table_info[table][\"foreign_keys\"].append({\n",
    "                        \"columns\": fk['constrained_columns'],\n",
    "                        \"referred_table\": fk['referred_table'],\n",
    "                        \"referred_columns\": fk['referred_columns']\n",
    "                    })\n",
    "\n",
    "        # Convert to JSON\n",
    "        schema = json.dumps(table_info, indent=4)\n",
    "        context[\"schema\"] = schema\n",
    "\n",
    "        return schema        "
   ]
  },
  {
   "cell_type": "markdown",
   "metadata": {},
   "source": [
    "Test 💻 **Get database schema** function"
   ]
  },
  {
   "cell_type": "code",
   "execution_count": 4,
   "metadata": {},
   "outputs": [
    {
     "name": "stdout",
     "output_type": "stream",
     "text": [
      "{\n",
      "    \"cities\": {\n",
      "        \"columns\": [\n",
      "            {\n",
      "                \"name\": \"city_id\",\n",
      "                \"type\": \"INTEGER\"\n",
      "            },\n",
      "            {\n",
      "                \"name\": \"name\",\n",
      "                \"type\": \"VARCHAR\"\n",
      "            }\n",
      "        ],\n",
      "        \"primary_key\": [\n",
      "            \"city_id\"\n",
      "        ],\n",
      "        \"foreign_keys\": []\n",
      "    },\n",
      "    \"products\": {\n",
      "        \"columns\": [\n",
      "            {\n",
      "                \"name\": \"product_id\",\n",
      "                \"type\": \"INTEGER\"\n",
      "            },\n",
      "            {\n",
      "                \"name\": \"name\",\n",
      "                \"type\": \"VARCHAR\"\n",
      "            }\n",
      "        ],\n",
      "        \"primary_key\": [\n",
      "            \"product_id\"\n",
      "        ],\n",
      "        \"foreign_keys\": []\n",
      "    },\n",
      "    \"sales\": {\n",
      "        \"columns\": [\n",
      "            {\n",
      "                \"name\": \"sale_id\",\n",
      "                \"type\": \"INTEGER\"\n",
      "            },\n",
      "            {\n",
      "                \"name\": \"city_id\",\n",
      "                \"type\": \"INTEGER\"\n",
      "            },\n",
      "            {\n",
      "                \"name\": \"product_id\",\n",
      "                \"type\": \"INTEGER\"\n",
      "            },\n",
      "            {\n",
      "                \"name\": \"total\",\n",
      "                \"type\": \"INTEGER\"\n",
      "            }\n",
      "        ],\n",
      "        \"primary_key\": [\n",
      "            \"sale_id\"\n",
      "        ],\n",
      "        \"foreign_keys\": [\n",
      "            {\n",
      "                \"columns\": [\n",
      "                    \"city_id\"\n",
      "                ],\n",
      "                \"referred_table\": \"cities\",\n",
      "                \"referred_columns\": [\n",
      "                    \"city_id\"\n",
      "                ]\n",
      "            },\n",
      "            {\n",
      "                \"columns\": [\n",
      "                    \"product_id\"\n",
      "                ],\n",
      "                \"referred_table\": \"products\",\n",
      "                \"referred_columns\": [\n",
      "                    \"product_id\"\n",
      "                ]\n",
      "            }\n",
      "        ]\n",
      "    }\n",
      "}\n"
     ]
    }
   ],
   "source": [
    "import semantic_kernel as sk\n",
    "from plugins.NL2SQL.native_function import NL2SQL\n",
    "from semantic_kernel.connectors.ai.open_ai import AzureChatCompletion\n",
    "\n",
    "kernel = sk.Kernel()\n",
    "deployment, api_key, endpoint, api_version = sk.azure_openai_settings_from_dot_env(include_api_version=True)\n",
    "kernel.add_chat_service(\"chat-completion\", AzureChatCompletion(deployment_name=deployment, endpoint=endpoint, api_key=api_key, api_version=api_version))\n",
    " \n",
    "# import the plugin\n",
    "nl2sql_plugin = kernel.import_skill(NL2SQL(), skill_name=\"NL2SQL\")\n",
    "\n",
    "# Run the GetDatabaseSchema function with the context.\n",
    "context = kernel.create_new_context()\n",
    "output_context = await kernel.run_async(\n",
    "    nl2sql_plugin[\"GetDatabaseSchema\"], input_context=context\n",
    ")\n",
    "\n",
    "print(output_context[\"schema\"])"
   ]
  },
  {
   "cell_type": "markdown",
   "metadata": {},
   "source": [
    "#### 🧠 Select Tables and Columns Function  \n",
    "\n",
    "Based on the user's natural language query and the database schema, this function identifies the relevant schema elements to construct an SQL query.\n",
    "\n",
    "First create the directory for the function"
   ]
  },
  {
   "cell_type": "code",
   "execution_count": 5,
   "metadata": {},
   "outputs": [],
   "source": [
    "\n",
    "!mkdir -p plugins/NL2SQL/SelectTablesAndColumns"
   ]
  },
  {
   "cell_type": "markdown",
   "metadata": {},
   "source": [
    "Create function config file"
   ]
  },
  {
   "cell_type": "code",
   "execution_count": 6,
   "metadata": {
    "vscode": {
     "languageId": "shellscript"
    }
   },
   "outputs": [
    {
     "name": "stdout",
     "output_type": "stream",
     "text": [
      "Overwriting plugins/NL2SQL/SelectTablesAndColumns/config.json\n"
     ]
    }
   ],
   "source": [
    "%%writefile plugins/NL2SQL/SelectTablesAndColumns/config.json\n",
    "{\n",
    "     \"schema\": 1,\n",
    "     \"type\": \"completion\",\n",
    "     \"description\": \"Based on the user ask and the database schema select the database schema elements that are related to the user ask.\",\n",
    "     \"completion\": {\n",
    "          \"max_tokens\": 500,\n",
    "          \"temperature\": 0.0,\n",
    "          \"top_p\": 0.0,\n",
    "          \"presence_penalty\": 0.0,\n",
    "          \"frequency_penalty\": 0.0\n",
    "     },\n",
    "     \"input\": {\n",
    "          \"parameters\": [\n",
    "               {\n",
    "                    \"name\": \"ask\",\n",
    "                    \"description\": \"The user's ask.\",\n",
    "                    \"defaultValue\": \"\",\n",
    "                    \"required\": true\n",
    "               },\n",
    "               {\n",
    "                    \"name\": \"schema\",\n",
    "                    \"description\": \"The database schema obtained with GetDatabaseSchema.\",\n",
    "                    \"defaultValue\": \"\",\n",
    "                    \"required\": true\n",
    "               }               \n",
    "          ]\n",
    "     }\n",
    "}"
   ]
  },
  {
   "cell_type": "markdown",
   "metadata": {},
   "source": [
    "Create function prompt"
   ]
  },
  {
   "cell_type": "code",
   "execution_count": 7,
   "metadata": {},
   "outputs": [
    {
     "name": "stdout",
     "output_type": "stream",
     "text": [
      "Overwriting plugins/NL2SQL/SelectTablesAndColumns/skprompt.txt\n"
     ]
    }
   ],
   "source": [
    "%%writefile plugins/NL2SQL/SelectTablesAndColumns/skprompt.txt\n",
    "## Task Goal:\n",
    "Based on a user's ask and a database schema elements (tables, columns, primary and foreign keys) identify which elements from the database schema are linked to the user ask so that, subsequently, they can be used int the generation of a SQL query.\n",
    "\n",
    "## Task Instructions:\n",
    "Output format is a list only do not write output word to the output.\n",
    "\n",
    "## Examples: \n",
    "user ask: \"I want to know the name of all subscribers of plans whose data allowance is less than 100 minutes.\"\n",
    "schema: {\"subscribers\": {\"columns\": [{\"name\": \"subscriber_id\", \"type\": \"INTEGER\"}, {\"name\": \"name\", \"type\": \"VARCHAR\"}], \"primary_key\": [\"subscriber_id\"], \"foreign_keys\": []}, \"plans\": {\"columns\": [{\"name\": \"plan_id\", \"type\": \"INTEGER\"}, {\"name\": \"name\", \"type\": \"VARCHAR\"}, {\"name\": \"data_allowance\", \"type\": \"INTEGER\"}], \"primary_key\": [\"plan_id\"], \"foreign_keys\": []}, \"subscribers_plans\": {\"columns\": [{\"name\": \"subscription_id\", \"type\": \"INTEGER\"}, {\"name\": \"plan_id\", \"type\": \"INTEGER\"}, {\"name\": \"subscriber_id\", \"type\": \"INTEGER\"}], \"primary_key\": [\"subscription_id\"], \"foreign_keys\": [{\"columns\": [\"plan_id\"], \"referred_table\": \"plans\", \"referred_columns\": [\"plan_id\"]}, {\"columns\": [\"subscriber_id\"], \"referred_table\": \"subscribers\", \"referred_columns\": [\"subscriber_id\"]}]}}\n",
    "output: [\"subscribers.name\", \"plans.data_allowance\", 100]\n",
    "\n",
    "user ask: \"List the number of subscribers by plan.\"\n",
    "schema: {\"subscribers\": {\"columns\": [{\"name\": \"subscriber_id\", \"type\": \"INTEGER\"}, {\"name\": \"name\", \"type\": \"VARCHAR\"}], \"primary_key\": [\"subscriber_id\"], \"foreign_keys\": []}, \"plans\": {\"columns\": [{\"name\": \"plan_id\", \"type\": \"INTEGER\"}, {\"name\": \"name\", \"type\": \"VARCHAR\"}, {\"name\": \"data_allowance\", \"type\": \"INTEGER\"}], \"primary_key\": [\"plan_id\"], \"foreign_keys\": []}, \"subscribers_plans\": {\"columns\": [{\"name\": \"subscription_id\", \"type\": \"INTEGER\"}, {\"name\": \"plan_id\", \"type\": \"INTEGER\"}, {\"name\": \"subscriber_id\", \"type\": \"INTEGER\"}], \"primary_key\": [\"subscription_id\"], \"foreign_keys\": [{\"columns\": [\"plan_id\"], \"referred_table\": \"plans\", \"referred_columns\": [\"plan_id\"]}, {\"columns\": [\"subscriber_id\"], \"referred_table\": \"subscribers\", \"referred_columns\": [\"subscriber_id\"]}]}}\n",
    "output: [\"subscribers.subscriber_id\", \"plans.name\"]\n",
    "\n",
    "## User Question\n",
    "user ask: \"{{$ask}}\"\n",
    "schema: {{$schema}}\n",
    "output: "
   ]
  },
  {
   "cell_type": "markdown",
   "metadata": {},
   "source": [
    "Test 🧠 **Select tables and columns** function"
   ]
  },
  {
   "cell_type": "code",
   "execution_count": 8,
   "metadata": {},
   "outputs": [
    {
     "name": "stdout",
     "output_type": "stream",
     "text": [
      "[\"sales.total\", \"cities.name\", \"Houston\"]\n"
     ]
    }
   ],
   "source": [
    "import semantic_kernel as sk\n",
    "\n",
    "# Initialize the kernel\n",
    "kernel = sk.Kernel()\n",
    "deployment, api_key, endpoint, api_version = sk.azure_openai_settings_from_dot_env(include_api_version=True)\n",
    "kernel.add_chat_service(\"chat-completion\", AzureChatCompletion(deployment_name=deployment, endpoint=endpoint, api_key=api_key, api_version=api_version))\n",
    "\n",
    "# Import the NL2SQL from the plugins directory.\n",
    "nl2sql_plugin = kernel.import_semantic_skill_from_directory(\"./plugins\", \"NL2SQL\")\n",
    "\n",
    "context = kernel.create_new_context()\n",
    "context.variables[\"ask\"] = \"Total sales in Houton?\"\n",
    "context.variables[\"schema\"] = '{\"cities\": {\"columns\": [{\"name\": \"city_id\", \"type\": \"INTEGER\"}, {\"name\": \"name\", \"type\": \"VARCHAR\"}], \"primary_key\": [\"city_id\"], \"foreign_keys\": []}, \"products\": {\"columns\": [{\"name\": \"product_id\", \"type\": \"INTEGER\"}, {\"name\": \"name\", \"type\": \"VARCHAR\"}], \"primary_key\": [\"product_id\"], \"foreign_keys\": []}, \"sales\": {\"columns\": [{\"name\": \"sale_id\", \"type\": \"INTEGER\"}, {\"name\": \"city_id\", \"type\": \"INTEGER\"}, {\"name\": \"product_id\", \"type\": \"INTEGER\"}, {\"name\": \"total\", \"type\": \"INTEGER\"}], \"primary_key\": [\"sale_id\"], \"foreign_keys\": [{\"columns\": [\"city_id\"], \"referred_table\": \"cities\", \"referred_columns\": [\"city_id\"]}, {\"columns\": [\"product_id\"], \"referred_table\": \"products\", \"referred_columns\": [\"product_id\"]}]}}'\n",
    "\n",
    "# Run the SelectTablesAndColumns function.\n",
    "output_context = await kernel.run_async(\n",
    "    nl2sql_plugin[\"SelectTablesAndColumns\"],\n",
    "    input_context = context\n",
    ")\n",
    "schema_links = output_context.result\n",
    "print(schema_links)"
   ]
  },
  {
   "cell_type": "markdown",
   "metadata": {},
   "source": [
    "#### 🧠 Create SQL Query Function  \n",
    "\n",
    "Given the selected schema elements and the user's query, this function generates the appropriate SQL command.\n",
    "\n",
    "First create the directory for the function"
   ]
  },
  {
   "cell_type": "code",
   "execution_count": 9,
   "metadata": {},
   "outputs": [],
   "source": [
    "!mkdir -p plugins/NL2SQL/GenerateQuery"
   ]
  },
  {
   "cell_type": "markdown",
   "metadata": {},
   "source": [
    "Create function config file"
   ]
  },
  {
   "cell_type": "code",
   "execution_count": 10,
   "metadata": {},
   "outputs": [
    {
     "name": "stdout",
     "output_type": "stream",
     "text": [
      "Overwriting plugins/NL2SQL/GenerateQuery/config.json\n"
     ]
    }
   ],
   "source": [
    "%%writefile plugins/NL2SQL/GenerateQuery/config.json\n",
    "{\n",
    "     \"schema\": 1,\n",
    "     \"type\": \"completion\",\n",
    "     \"description\": \"Based on the user ask, the database schema and the selected database schema elements generate the sql query that will be executed to meet the user ask.\",\n",
    "     \"completion\": {\n",
    "          \"max_tokens\": 500,\n",
    "          \"temperature\": 0.0,\n",
    "          \"top_p\": 0.0,\n",
    "          \"presence_penalty\": 0.0,\n",
    "          \"frequency_penalty\": 0.0\n",
    "     },\n",
    "     \"input\": {\n",
    "          \"parameters\": [\n",
    "               {\n",
    "                    \"name\": \"ask\",\n",
    "                    \"description\": \"The user's ask.\",\n",
    "                    \"defaultValue\": \"\",\n",
    "                    \"required\": true\n",
    "               },\n",
    "               {\n",
    "                    \"name\": \"schema\",\n",
    "                    \"description\": \"The database schema.\",\n",
    "                    \"defaultValue\": \"\",\n",
    "                    \"required\": true\n",
    "               },\n",
    "               {\n",
    "                    \"name\": \"input\",\n",
    "                    \"description\": \"The selected elements in the schema that are linked to the ask.\",\n",
    "                    \"defaultValue\": \"\",\n",
    "                    \"required\": true\n",
    "               }                     \n",
    "          ]\n",
    "     }\n",
    "}"
   ]
  },
  {
   "cell_type": "markdown",
   "metadata": {},
   "source": [
    "Create function prompt\n"
   ]
  },
  {
   "cell_type": "code",
   "execution_count": 11,
   "metadata": {},
   "outputs": [
    {
     "name": "stdout",
     "output_type": "stream",
     "text": [
      "Overwriting plugins/NL2SQL/GenerateQuery/skprompt.txt\n"
     ]
    }
   ],
   "source": [
    "%%writefile plugins/NL2SQL/GenerateQuery/skprompt.txt\n",
    "\n",
    "## Task Goal\n",
    "Given the user's ask, use the tables, columns, primary keys, and foreign keys, and the schema_links to generate a database query that can be executed in a SQLite database. \n",
    "\n",
    "## Task Instructions\n",
    "Follow the following rules in the construction of the SQL:  \n",
    "1) Use the database values that are explicitly mentioned in the question.  \n",
    "2) Pay attention to the columns used to make the JOIN between tables to always use the Foreign Keys (FK).  \n",
    "3) Use DESC and DISTINCT when necessary.  \n",
    "4) Pay attention to the columns used in the GROUP BY command.  \n",
    "5) Pay attention to the columns used in the SELECT command.  \n",
    "6) Only change the GROUP BY command if necessary (avoid redundant columns in GROUP BY)  \n",
    "Output is a valid SQL query for SQLite. Do not add explanations of the steps neither the word sql to the output.\n",
    "\n",
    "## Examples: \n",
    "user ask: \"I want to know the name of all subscribers of plans whose data allowance is less than 100 minutes.\"\n",
    "schema_links: [\"subscriberrs.name\", \"plan.data_allowance\", 100]\n",
    "schema: {\"subscribers\": {\"columns\": [{\"name\": \"subscriber_id\", \"type\": \"INTEGER\"}, {\"name\": \"name\", \"type\": \"VARCHAR\"}], \"primary_key\": [\"subscriber_id\"], \"foreign_keys\": []}, \"plans\": {\"columns\": [{\"name\": \"plan_id\", \"type\": \"INTEGER\"}, {\"name\": \"name\", \"type\": \"VARCHAR\"}, {\"name\": \"data_allowance\", \"type\": \"INTEGER\"}], \"primary_key\": [\"plan_id\"], \"foreign_keys\": []}, \"subscribers_plans\": {\"columns\": [{\"name\": \"subscription_id\", \"type\": \"INTEGER\"}, {\"name\": \"plan_id\", \"type\": \"INTEGER\"}, {\"name\": \"subscriber_id\", \"type\": \"INTEGER\"}], \"primary_key\": [\"subscription_id\"], \"foreign_keys\": [{\"columns\": [\"plan_id\"], \"referred_table\": \"plans\", \"referred_columns\": [\"plan_id\"]}, {\"columns\": [\"subscriber_id\"], \"referred_table\": \"subscribers\", \"referred_columns\": [\"subscriber_id\"]}]}}\n",
    "output: SELECT Assinante.* FROM Assinante JOIN Assinatura ON Assinante.id = Assinatura.assinante_id JOIN Plano ON Assinatura.plano_id = Plano.id WHERE Plano.franquia_dados < 100\n",
    "\n",
    "## User question: \n",
    "user ask: {{$ask}}\n",
    "schema_links: {{$input}}\n",
    "schema: {{$schema}}\n",
    "output:"
   ]
  },
  {
   "cell_type": "markdown",
   "metadata": {},
   "source": [
    "Test 🧠 **Generate query** function\n",
    "\n",
    "Executes the generated SQL query against the database and retrieves the results.  "
   ]
  },
  {
   "cell_type": "code",
   "execution_count": 12,
   "metadata": {},
   "outputs": [
    {
     "name": "stdout",
     "output_type": "stream",
     "text": [
      "SELECT SUM(sales.total) FROM sales JOIN cities ON sales.city_id = cities.city_id WHERE cities.name = 'Houston'\n"
     ]
    }
   ],
   "source": [
    "import semantic_kernel as sk\n",
    "\n",
    "# Initialize the kernel\n",
    "kernel = sk.Kernel()\n",
    "deployment, api_key, endpoint, api_version = sk.azure_openai_settings_from_dot_env(include_api_version=True)\n",
    "kernel.add_chat_service(\"chat-completion\", AzureChatCompletion(deployment_name=deployment, endpoint=endpoint, api_key=api_key, api_version=api_version))\n",
    "\n",
    "# Import the NL2SQL from the plugins directory.\n",
    "nl2sql_plugin = kernel.import_semantic_skill_from_directory(\"./plugins\", \"NL2SQL\")\n",
    "\n",
    "context = kernel.create_new_context()\n",
    "context.variables[\"ask\"] = \"Total sales in Houston?\"\n",
    "context.variables[\"schema\"] = '{\"cities\": {\"columns\": [{\"name\": \"city_id\", \"type\": \"INTEGER\"}, {\"name\": \"name\", \"type\": \"VARCHAR\"}], \"primary_key\": [\"city_id\"], \"foreign_keys\": []}, \"products\": {\"columns\": [{\"name\": \"product_id\", \"type\": \"INTEGER\"}, {\"name\": \"name\", \"type\": \"VARCHAR\"}], \"primary_key\": [\"product_id\"], \"foreign_keys\": []}, \"sales\": {\"columns\": [{\"name\": \"sale_id\", \"type\": \"INTEGER\"}, {\"name\": \"city_id\", \"type\": \"INTEGER\"}, {\"name\": \"product_id\", \"type\": \"INTEGER\"}, {\"name\": \"total\", \"type\": \"INTEGER\"}], \"primary_key\": [\"sale_id\"], \"foreign_keys\": [{\"columns\": [\"city_id\"], \"referred_table\": \"cities\", \"referred_columns\": [\"city_id\"]}, {\"columns\": [\"product_id\"], \"referred_table\": \"products\", \"referred_columns\": [\"product_id\"]}]}}'\n",
    "context.variables[\"input\"] = '[\"sales.total\", \"cities.name\", \"Houston\"]'\n",
    "\n",
    "# Run the GenerateQuery function.\n",
    "output_context = await kernel.run_async(\n",
    "    nl2sql_plugin[\"GenerateQuery\"],\n",
    "    input_context = context\n",
    ")\n",
    "\n",
    "print(output_context.result)"
   ]
  },
  {
   "cell_type": "markdown",
   "metadata": {},
   "source": [
    "Create 💻 **Execute query** function"
   ]
  },
  {
   "cell_type": "code",
   "execution_count": 13,
   "metadata": {
    "vscode": {
     "languageId": "shellscript"
    }
   },
   "outputs": [
    {
     "name": "stdout",
     "output_type": "stream",
     "text": [
      "Overwriting plugins/NL2SQL/native_function.py\n"
     ]
    }
   ],
   "source": [
    "%%writefile plugins/NL2SQL/native_function.py\n",
    "from semantic_kernel.skill_definition import sk_function\n",
    "from semantic_kernel import SKContext\n",
    "import json\n",
    "from sqlalchemy import inspect, create_engine, text\n",
    "\n",
    "class NL2SQL:\n",
    "    @sk_function(\n",
    "        description=\"Execute the generated sql query to have its results used in the answer generation\",\n",
    "        name=\"ExecuteQuery\",\n",
    "        input_description=\"The sql instruction\",\n",
    "    )\n",
    "    def execute_query(self, context: SKContext) -> str:\n",
    "        engine = create_engine('sqlite:///data.db')\n",
    "        connection = engine.connect()\n",
    "        query_results = \"\"\n",
    "        sql_query = context[\"input\"]\n",
    "        context[\"sql_query\"] = sql_query # add the sql query to the context        \n",
    "        try:\n",
    "            sql_result = connection.execute(text(sql_query))\n",
    "            rows = sql_result.fetchall()  # Fetch all rows\n",
    "            for row in rows:\n",
    "                query_results = query_results + ', '.join(map(str, row)) + '\\n' \n",
    "        except Exception as e:\n",
    "            print(f\"Error executing query: {e}\")\n",
    "        finally:\n",
    "            connection.close()\n",
    "        return query_results\n",
    "\n",
    "    @sk_function(\n",
    "        description=\"Get the database schema\",\n",
    "        name=\"GetDatabaseSchema\",\n",
    "        input_description=\"The user question\",\n",
    "    )\n",
    "    def get_database_schema(self, context: SKContext) -> str:\n",
    "        engine = create_engine('sqlite:///data.db')\n",
    "        \n",
    "        # Create inspector\n",
    "        inspector = inspect(engine)\n",
    "\n",
    "        # Get table information\n",
    "        tables = inspector.get_table_names()\n",
    "\n",
    "        # Store table information\n",
    "        table_info = {}\n",
    "\n",
    "        for table in tables:\n",
    "            table_info[table] = {\n",
    "                \"columns\": [],\n",
    "                \"primary_key\": [],\n",
    "                \"foreign_keys\": []\n",
    "            }\n",
    "            \n",
    "            # Get columns\n",
    "            columns = inspector.get_columns(table)\n",
    "            for column in columns:\n",
    "                table_info[table][\"columns\"].append({\n",
    "                    \"name\": column['name'],\n",
    "                    \"type\": str(column['type'])\n",
    "                })\n",
    "            \n",
    "            # Get primary key\n",
    "            pk = inspector.get_pk_constraint(table)['constrained_columns']\n",
    "            table_info[table][\"primary_key\"] = pk\n",
    "            \n",
    "            # Get foreign keys\n",
    "            fks = inspector.get_foreign_keys(table)\n",
    "            if fks:\n",
    "                for fk in fks:\n",
    "                    table_info[table][\"foreign_keys\"].append({\n",
    "                        \"columns\": fk['constrained_columns'],\n",
    "                        \"referred_table\": fk['referred_table'],\n",
    "                        \"referred_columns\": fk['referred_columns']\n",
    "                    })\n",
    "\n",
    "        # Convert to JSON\n",
    "        schema = json.dumps(table_info, indent=4)\n",
    "        context[\"schema\"] = schema\n",
    "\n",
    "        return schema      "
   ]
  },
  {
   "cell_type": "markdown",
   "metadata": {},
   "source": [
    "Test 💻 **Execute query** function"
   ]
  },
  {
   "cell_type": "code",
   "execution_count": 14,
   "metadata": {},
   "outputs": [
    {
     "name": "stdout",
     "output_type": "stream",
     "text": [
      "1520\n",
      "\n"
     ]
    }
   ],
   "source": [
    "import importlib\n",
    "import semantic_kernel as sk\n",
    "import plugins.NL2SQL.native_function as nl2sql\n",
    "from semantic_kernel.connectors.ai.open_ai import AzureChatCompletion\n",
    "\n",
    "# Reload the NL2SQL module\n",
    "importlib.reload(nl2sql)\n",
    "\n",
    "kernel = sk.Kernel()\n",
    "deployment, api_key, endpoint, api_version = sk.azure_openai_settings_from_dot_env(include_api_version=True)\n",
    "kernel.add_chat_service(\"chat-completion\", AzureChatCompletion(deployment_name=deployment, endpoint=endpoint, api_key=api_key, api_version=api_version))\n",
    " \n",
    "# import the plugin\n",
    "nl2sql_plugin = kernel.import_skill(nl2sql.NL2SQL(), skill_name=\"NL2SQL\")\n",
    "\n",
    "contex = kernel.create_new_context()\n",
    "context.variables[\"input\"] = \"SELECT SUM(sales.total) FROM sales JOIN cities ON sales.city_id = cities.city_id WHERE cities.name = 'Houston'\"\n",
    "\n",
    "# Run the ExecuteQuery function.\n",
    "output_context = await kernel.run_async(\n",
    "    nl2sql_plugin[\"ExecuteQuery\"],\n",
    "    input_context = context\n",
    ")\n",
    "output_context.result\n",
    "print(output_context.result)"
   ]
  },
  {
   "cell_type": "markdown",
   "metadata": {},
   "source": [
    "#### 🧠 Generate Answer Function  \n",
    "\n",
    "Finally, this function formats the query results into a human-readable answer to the user's original query.  \n",
    "\n",
    "Create function directory\n"
   ]
  },
  {
   "cell_type": "code",
   "execution_count": 15,
   "metadata": {},
   "outputs": [],
   "source": [
    "!mkdir -p plugins/NL2SQL/GenerateAnswer"
   ]
  },
  {
   "cell_type": "markdown",
   "metadata": {},
   "source": [
    "Create function config file"
   ]
  },
  {
   "cell_type": "code",
   "execution_count": 16,
   "metadata": {},
   "outputs": [
    {
     "name": "stdout",
     "output_type": "stream",
     "text": [
      "Overwriting plugins/NL2SQL/GenerateAnswer/config.json\n"
     ]
    }
   ],
   "source": [
    "%%writefile plugins/NL2SQL/GenerateAnswer/config.json\n",
    "{\n",
    "     \"schema\": 1,\n",
    "     \"type\": \"completion\",\n",
    "     \"description\": \"Based on the user ask, the query and the query results generate an answer to the user ask.\",\n",
    "     \"completion\": {\n",
    "          \"max_tokens\": 500,\n",
    "          \"temperature\": 0.0,\n",
    "          \"top_p\": 0.0,\n",
    "          \"presence_penalty\": 0.0,\n",
    "          \"frequency_penalty\": 0.0\n",
    "     },\n",
    "     \"input\": {\n",
    "          \"parameters\": [\n",
    "               {\n",
    "                    \"name\": \"ask\",\n",
    "                    \"description\": \"The user's ask.\",\n",
    "                    \"defaultValue\": \"\",\n",
    "                    \"required\": true\n",
    "               },\n",
    "               {\n",
    "                    \"name\": \"sql_query\",\n",
    "                    \"description\": \"The sql query.\",\n",
    "                    \"defaultValue\": \"\",\n",
    "                    \"required\": true\n",
    "               },\n",
    "               {\n",
    "                    \"name\": \"input\",\n",
    "                    \"description\": \"The sql query result.\",\n",
    "                    \"defaultValue\": \"\",\n",
    "                    \"required\": true\n",
    "               }                     \n",
    "          ]\n",
    "     }\n",
    "}"
   ]
  },
  {
   "cell_type": "code",
   "execution_count": 17,
   "metadata": {},
   "outputs": [
    {
     "name": "stdout",
     "output_type": "stream",
     "text": [
      "Overwriting plugins/NL2SQL/GenerateAnswer/skprompt.txt\n"
     ]
    }
   ],
   "source": [
    "%%writefile plugins/NL2SQL/GenerateAnswer/skprompt.txt\n",
    "\n",
    "## Task Goal\n",
    "Given the user's ask, the sql query and the query results generate an answer to the user. \n",
    "\n",
    "## User question: \n",
    "user ask: {{$ask}}\n",
    "sql_query: {{$sql_query}}\n",
    "sql_query_results: {{$input}}\n",
    "answer:"
   ]
  },
  {
   "cell_type": "markdown",
   "metadata": {},
   "source": [
    "Test 🧠 **Generate answer** function"
   ]
  },
  {
   "cell_type": "code",
   "execution_count": 18,
   "metadata": {},
   "outputs": [
    {
     "name": "stdout",
     "output_type": "stream",
     "text": [
      "The total sales in Houston are $1,520.\n"
     ]
    }
   ],
   "source": [
    "import semantic_kernel as sk\n",
    "from semantic_kernel.connectors.ai.open_ai import AzureChatCompletion\n",
    "\n",
    "kernel = sk.Kernel()\n",
    "deployment, api_key, endpoint, api_version = sk.azure_openai_settings_from_dot_env(include_api_version=True)\n",
    "kernel.add_chat_service(\"chat-completion\", AzureChatCompletion(deployment_name=deployment, endpoint=endpoint, api_key=api_key, api_version=api_version))\n",
    " \n",
    "# import the plugin\n",
    "nl2sql_plugin = kernel.import_semantic_skill_from_directory(\"./plugins\", \"NL2SQL\")\n",
    "\n",
    "context = kernel.create_new_context()\n",
    "context.variables[\"ask\"] = \"Total sales in Houston?\"\n",
    "context.variables[\"sql_query\"] = \"SELECT SUM(sales.total) FROM sales JOIN cities ON sales.city_id = cities.city_id WHERE cities.name = 'Houston'\"\n",
    "context.variables[\"input\"] = \"1520\"\n",
    "\n",
    "# Run the GenerateAnswer function.\n",
    "output_context = await kernel.run_async(\n",
    "    nl2sql_plugin[\"GenerateAnswer\"],\n",
    "    input_context = context\n",
    ")\n",
    "output_context.result\n",
    "print(output_context.result)"
   ]
  },
  {
   "cell_type": "markdown",
   "metadata": {},
   "source": [
    "## Step 6: Chaining Functions in a Pipeline  \n",
    "\n",
    "We will chain the functions together to form a complete NL2SQL pipeline that can process a natural language query and return an answer.  \n"
   ]
  },
  {
   "cell_type": "code",
   "execution_count": 19,
   "metadata": {},
   "outputs": [
    {
     "name": "stdout",
     "output_type": "stream",
     "text": [
      "The total sales in Houston are $1,520.\n"
     ]
    }
   ],
   "source": [
    "import semantic_kernel as sk\n",
    "from semantic_kernel.connectors.ai.open_ai import AzureChatCompletion\n",
    "\n",
    "kernel = sk.Kernel()\n",
    "deployment, api_key, endpoint, api_version = sk.azure_openai_settings_from_dot_env(include_api_version=True)\n",
    "kernel.add_chat_service(\"chat-completion\", AzureChatCompletion(deployment_name=deployment, endpoint=endpoint, api_key=api_key, api_version=api_version))\n",
    "\n",
    "# import the plugin semantic and native functions\n",
    "nl2sql_plugin = kernel.import_semantic_skill_from_directory(\"./plugins\", \"NL2SQL\")\n",
    "native_functions = kernel.import_native_skill_from_directory(\"./plugins\", \"NL2SQL\")\n",
    "nl2sql_plugin.update(native_functions)\n",
    "\n",
    "# create new context\n",
    "context = kernel.create_new_context()\n",
    "context.variables[\"ask\"] = \"What are the names of the cities?\"\n",
    "context.variables[\"ask\"] = \"total sales in Houston?\"\n",
    "\n",
    "output_context = await kernel.run_async(nl2sql_plugin[\"GetDatabaseSchema\"], nl2sql_plugin[\"SelectTablesAndColumns\"], nl2sql_plugin[\"GenerateQuery\"], nl2sql_plugin[\"ExecuteQuery\"], nl2sql_plugin[\"GenerateAnswer\"], input_context=context)\n",
    "print(output_context.result)"
   ]
  },
  {
   "cell_type": "markdown",
   "metadata": {},
   "source": [
    "## Step 7: Using a Planner  \n",
    "\n",
    "A planner can be used to automatically generate and execute a plan based on the user's query. It will orchestrate the NL2SQL functions to achieve"
   ]
  },
  {
   "cell_type": "code",
   "execution_count": 22,
   "metadata": {},
   "outputs": [
    {
     "name": "stdout",
     "output_type": "stream",
     "text": [
      "Generated Plan:\n",
      "NL2SQL GetDatabaseSchema : Get the database schema\n",
      "NL2SQL SelectTablesAndColumns : Based on the user ask and the database schema select the database schema elements that are related to the user ask.\n",
      "NL2SQL GenerateQuery : Based on the user ask, the database schema and the selected database schema elements generate the sql query that will be executed to meet the user ask.\n",
      "NL2SQL ExecuteQuery : Execute the generated sql query to have its results used in the answer generation\n",
      "NL2SQL GenerateAnswer : Based on the user ask, the query and the query results generate an answer to the user ask.\n",
      "\n",
      "Plan results:\n",
      "The total sales in Houston are $1,520.\n"
     ]
    }
   ],
   "source": [
    "import semantic_kernel as sk\n",
    "from semantic_kernel.connectors.ai.open_ai import AzureChatCompletion\n",
    "from semantic_kernel.planning import SequentialPlanner\n",
    "\n",
    "kernel = sk.Kernel()\n",
    "deployment, api_key, endpoint, api_version = sk.azure_openai_settings_from_dot_env(include_api_version=True)\n",
    "kernel.add_chat_service(\"chat-completion\", AzureChatCompletion(deployment_name=deployment, endpoint=endpoint, api_key=api_key, api_version=api_version))\n",
    "\n",
    "# import the plugin semantic and native functions\n",
    "kernel.import_semantic_skill_from_directory(\"./plugins\", \"NL2SQL\")\n",
    "kernel.import_native_skill_from_directory(\"./plugins\", \"NL2SQL\")\n",
    "\n",
    "planner = SequentialPlanner(kernel)\n",
    "\n",
    "ask = \"Total sales in Houston?\"\n",
    "# ask = \"What are the names of the cities?\"\n",
    "\n",
    "# Create the plan\n",
    "plan = await planner.create_plan_async(goal=ask)\n",
    "print(\"Generated Plan:\")\n",
    "for step in plan._steps:\n",
    "    print(step.skill_name, step.name, \":\", step.description)\n",
    "\n",
    "# Execute the plan\n",
    "try:\n",
    "    result = await plan.invoke_async()\n",
    "    print(\"\\nPlan results:\")\n",
    "    print(result)\n",
    "except Exception as e:\n",
    "    print(f\"Error executing plan: {e}\")"
   ]
  }
 ],
 "metadata": {
  "kernelspec": {
   "display_name": "workshop",
   "language": "python",
   "name": "python3"
  },
  "language_info": {
   "codemirror_mode": {
    "name": "ipython",
    "version": 3
   },
   "file_extension": ".py",
   "mimetype": "text/x-python",
   "name": "python",
   "nbconvert_exporter": "python",
   "pygments_lexer": "ipython3",
   "version": "3.10.13"
  }
 },
 "nbformat": 4,
 "nbformat_minor": 2
}
